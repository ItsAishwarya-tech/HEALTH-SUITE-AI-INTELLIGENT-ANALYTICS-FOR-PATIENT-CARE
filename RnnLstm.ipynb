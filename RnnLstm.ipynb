{
 "cells": [
  {
   "cell_type": "code",
   "execution_count": 1,
   "id": "8107a089",
   "metadata": {},
   "outputs": [
    {
     "name": "stdout",
     "output_type": "stream",
     "text": [
      "✅ Loaded ML file: admissionDx.csv.gz | Shape: (7578, 6)\n",
      "✅ Loaded ML file: admissiondrug.csv.gz | Shape: (7417, 14)\n",
      "✅ Loaded ML file: allergy.csv.gz | Shape: (2475, 13)\n",
      "✅ Loaded ML file: apacheApsVar.csv.gz | Shape: (2205, 26)\n",
      "✅ Loaded ML file: apachePatientResult.csv.gz | Shape: (3676, 23)\n",
      "✅ Loaded ML file: apachePredVar.csv.gz | Shape: (2205, 51)\n",
      "✅ Loaded ML file: carePlanCareProvider.csv.gz | Shape: (5627, 8)\n",
      "✅ Loaded ML file: carePlanGeneral.csv.gz | Shape: (33148, 6)\n",
      "✅ Loaded ML file: carePlanGoal.csv.gz | Shape: (3633, 7)\n",
      "✅ Loaded ML file: carePlanInfectiousDisease.csv.gz | Shape: (112, 8)\n",
      "✅ Loaded ML file: customLab.csv.gz | Shape: (30, 7)\n",
      "✅ Loaded ML file: diagnosis.csv.gz | Shape: (24978, 7)\n",
      "✅ Loaded ML file: hospital.csv.gz | Shape: (186, 4)\n",
      "✅ Loaded ML file: infusiondrug.csv.gz | Shape: (38256, 9)\n",
      "✅ Loaded ML file: intakeOutput.csv.gz | Shape: (100466, 12)\n",
      "✅ Loaded ML file: lab.csv.gz | Shape: (434660, 10)\n"
     ]
    },
    {
     "name": "stderr",
     "output_type": "stream",
     "text": [
      "C:\\Users\\asus\\AppData\\Local\\Temp\\ipykernel_10668\\2869086496.py:32: DtypeWarning: Columns (11) have mixed types. Specify dtype option on import or set low_memory=False.\n",
      "  ml_data[file] = pd.read_csv(path, compression='gzip')\n"
     ]
    },
    {
     "name": "stdout",
     "output_type": "stream",
     "text": [
      "✅ Loaded ML file: medication.csv.gz | Shape: (75604, 15)\n",
      "✅ Loaded ML file: microLab.csv.gz | Shape: (342, 7)\n",
      "✅ Loaded ML file: nurseAssessment.csv.gz | Shape: (91589, 8)\n",
      "✅ Loaded ML file: nurseCare.csv.gz | Shape: (42080, 8)\n",
      "✅ Loaded ML file: nurseCharting.csv.gz | Shape: (1477163, 8)\n",
      "✅ Loaded ML file: pastHistory.csv.gz | Shape: (12109, 8)\n",
      "✅ Loaded ML file: patient.csv.gz | Shape: (2520, 29)\n",
      "✅ Loaded ML file: physicalExam.csv.gz | Shape: (84058, 6)\n",
      "✅ Loaded ML file: respiratoryCare.csv.gz | Shape: (5436, 34)\n",
      "✅ Loaded ML file: respiratoryCharting.csv.gz | Shape: (176089, 7)\n",
      "✅ Loaded ML file: treatment.csv.gz | Shape: (38290, 5)\n",
      "✅ Loaded ML file: vitalPeriodic.csv.gz | Shape: (1634960, 19)\n"
     ]
    }
   ],
   "source": [
    "import os\n",
    "import pandas as pd\n",
    "\n",
    "# Change this to your actual folder path\n",
    "data_folder = r\"C:\\Users\\asus\\Downloads\\health api\"\n",
    "\n",
    "# ML and NLP file lists\n",
    "ml_files = [\n",
    "    'admissionDx.csv.gz', 'admissiondrug.csv.gz', 'allergy.csv.gz', 'apacheApsVar.csv.gz',\n",
    "    'apachePatientResult.csv.gz', 'apachePredVar.csv.gz', 'carePlanCareProvider.csv.gz',\n",
    "    'carePlanGeneral.csv.gz', 'carePlanGoal.csv.gz',\n",
    "    'carePlanInfectiousDisease.csv.gz', 'customLab.csv.gz', 'diagnosis.csv.gz',\n",
    "    'hospital.csv.gz', 'infusiondrug.csv.gz', 'intakeOutput.csv.gz', 'lab.csv.gz',\n",
    "    'medication.csv.gz', 'microLab.csv.gz', 'nurseAssessment.csv.gz', 'nurseCare.csv.gz',\n",
    "    'nurseCharting.csv.gz', 'pastHistory.csv.gz', 'patient.csv.gz', 'physicalExam.csv.gz',\n",
    "    'respiratoryCare.csv.gz', 'respiratoryCharting.csv.gz', 'treatment.csv.gz',\n",
    "     'vitalPeriodic.csv.gz'\n",
    "    \n",
    "]\n",
    "\n",
    "\n",
    "nlp_files = ['note.csv.gz']\n",
    "\n",
    "# Dictionaries to store data\n",
    "ml_data = {}\n",
    "nlp_data = {}\n",
    "\n",
    "# Load ML files\n",
    "for file in ml_files:\n",
    "    path = os.path.join(data_folder, file)\n",
    "    if os.path.exists(path):\n",
    "        ml_data[file] = pd.read_csv(path, compression='gzip')\n",
    "        print(f\"✅ Loaded ML file: {file} | Shape: {ml_data[file].shape}\")\n",
    "    else:\n",
    "        print(f\" Missing ML file: {file}\")"
   ]
  },
  {
   "cell_type": "code",
   "execution_count": 2,
   "id": "69fb17f4",
   "metadata": {},
   "outputs": [
    {
     "name": "stdout",
     "output_type": "stream",
     "text": [
      "   vitalperiodicid  patientunitstayid  observationoffset  temperature  sao2  \\\n",
      "0         29524122             141765               1179          NaN   NaN   \n",
      "1         29557845             141765                189          NaN  97.0   \n",
      "2         29524442             141765               1169          NaN   NaN   \n",
      "3         29513052             141765               1534          NaN   NaN   \n",
      "4         29524600             141765               1164          NaN   NaN   \n",
      "\n",
      "   heartrate  respiration  cvp  etco2  systemicsystolic  systemicdiastolic  \\\n",
      "0       82.0          NaN  NaN    NaN               NaN                NaN   \n",
      "1       76.0         30.0  NaN    NaN               NaN                NaN   \n",
      "2       84.0          NaN  NaN    NaN               NaN                NaN   \n",
      "3       92.0          NaN  NaN    NaN               NaN                NaN   \n",
      "4       86.0          NaN  NaN    NaN               NaN                NaN   \n",
      "\n",
      "   systemicmean  pasystolic  padiastolic  pamean  st1  st2  st3  icp  \n",
      "0           NaN         NaN          NaN     NaN  NaN  NaN  NaN  NaN  \n",
      "1           NaN         NaN          NaN     NaN  NaN  NaN  NaN  NaN  \n",
      "2           NaN         NaN          NaN     NaN  NaN  NaN  NaN  NaN  \n",
      "3           NaN         NaN          NaN     NaN  NaN  NaN  NaN  NaN  \n",
      "4           NaN         NaN          NaN     NaN  NaN  NaN  NaN  NaN  \n",
      "Index(['vitalperiodicid', 'patientunitstayid', 'observationoffset',\n",
      "       'temperature', 'sao2', 'heartrate', 'respiration', 'cvp', 'etco2',\n",
      "       'systemicsystolic', 'systemicdiastolic', 'systemicmean', 'pasystolic',\n",
      "       'padiastolic', 'pamean', 'st1', 'st2', 'st3', 'icp'],\n",
      "      dtype='object')\n",
      "2375\n"
     ]
    }
   ],
   "source": [
    "# Extract the vitalPeriodic dataframe\n",
    "vitals = ml_data['vitalPeriodic.csv.gz']\n",
    "\n",
    "# Peek at the data\n",
    "print(vitals.head())\n",
    "print(vitals.columns)\n",
    "print(vitals['patientunitstayid'].nunique())  # Check number of patients\n"
   ]
  },
  {
   "cell_type": "code",
   "execution_count": 3,
   "id": "17da52d3",
   "metadata": {},
   "outputs": [
    {
     "name": "stdout",
     "output_type": "stream",
     "text": [
      "✅ Loaded NLP file: note.csv.gz | Shape: (24758, 8)\n"
     ]
    }
   ],
   "source": [
    "# ...existing code...\n",
    "# Load NLP files\n",
    "for file in nlp_files:\n",
    "    path = os.path.join(data_folder, file)\n",
    "    if os.path.exists(path):\n",
    "        nlp_data[file] = pd.read_csv(path, compression='gzip')\n",
    "        print(f\"✅ Loaded NLP file: {file} | Shape: {nlp_data[file].shape}\")\n",
    "    else:\n",
    "        print(f\" Missing NLP file: {file}\")\n",
    "# ...existing code..."
   ]
  },
  {
   "cell_type": "code",
   "execution_count": 4,
   "id": "9b11bf99",
   "metadata": {},
   "outputs": [],
   "source": [
    "vitals = ml_data['vitalPeriodic.csv.gz']\n",
    "notes = nlp_data['note.csv.gz']\n",
    "intake_output = ml_data['intakeOutput.csv.gz']\n",
    "infusion_drug = ml_data['infusiondrug.csv.gz']\n",
    "lab = ml_data['lab.csv.gz']\n",
    "respiratory_charting = ml_data['respiratoryCharting.csv.gz']"
   ]
  },
  {
   "cell_type": "code",
   "execution_count": 5,
   "id": "d84d0d7d",
   "metadata": {},
   "outputs": [],
   "source": [
    "#define columns to keep\n",
    "vitals_cols = [\n",
    "    'patientunitstayid', 'observationoffset', 'heartrate',\n",
    "    'systemicsystolic', 'systemicdiastolic', 'sao2'\n",
    "]\n",
    "vitals = vitals[vitals_cols]\n",
    "notes_cols = ['patientunitstayid', 'notetype', 'noteenteredoffset',  'noteid','notepath',\n",
    "'notepath','notevalue','notetext']\n",
    "intake_output_cols = [\n",
    "    'patientunitstayid', 'intakeoutputoffset', 'intakeoutputentryoffset',\n",
    "    'celllabel', 'cellvaluenumeric', 'cellpath'\n",
    "]\n",
    "\n",
    "infusion_drug_cols = [ 'patientunitstayid','infusionoffset',      'drugname',            \n",
    " 'drugrate', 'infusionrate', 'drugamount', 'volumeoffluid', 'patientweight']\n",
    "lab_cols = [ 'patientunitstayid', 'labresultoffset', 'labname',          \n",
    " 'labresult', 'labresulttext' ]     \n",
    "respiratory_charting_cols = [ 'patientunitstayid', 'respchartoffset', 'respcharttypecat', \n",
    " 'respchartvaluelabel',   'respchartvalue' ]   \n",
    "\n",
    "    \n"
   ]
  },
  {
   "cell_type": "code",
   "execution_count": 6,
   "id": "a9d30024",
   "metadata": {},
   "outputs": [
    {
     "name": "stdout",
     "output_type": "stream",
     "text": [
      "Index(['respchartid', 'patientunitstayid', 'respchartoffset',\n",
      "       'respchartentryoffset', 'respcharttypecat', 'respchartvaluelabel',\n",
      "       'respchartvalue'],\n",
      "      dtype='object')\n"
     ]
    }
   ],
   "source": [
    "print(respiratory_charting.columns)"
   ]
  },
  {
   "cell_type": "code",
   "execution_count": 7,
   "id": "ca4bdb5e",
   "metadata": {},
   "outputs": [],
   "source": [
    "vitals = vitals[vitals_cols]\n",
    "notes_cols = notes[notes_cols]\n",
    "intake_output_cols = intake_output[intake_output_cols]\n",
    "infusion_drug_cols = infusion_drug[infusion_drug_cols]\n",
    "lab_cols = lab[lab_cols]\n",
    "respiratory_charting_cols = respiratory_charting[respiratory_charting_cols]\n",
    "\n",
    "\n"
   ]
  },
  {
   "cell_type": "code",
   "execution_count": 8,
   "id": "49897ff4",
   "metadata": {},
   "outputs": [],
   "source": [
    "vitals_summary = ( vitals .groupby('patientunitstayid') .size() .reset_index(name='vitals_count'))\n",
    "notes_summary = ( notes .groupby('patientunitstayid') .size() .reset_index(name='notes_count'))\n",
    "intake_output_summary = ( intake_output .groupby('patientunitstayid') .size() .reset_index(name='intake_output_count'))\n",
    "infusion_drug_summary = ( infusion_drug .groupby('patientunitstayid') .size() .reset_index(name='infusion_drug_count'))\n",
    "lab_summary = ( lab .groupby('patientunitstayid') .size() .reset_index(name='lab_count'))\n",
    "respiratory_charting_summary = ( respiratory_charting .groupby('patientunitstayid') .size() .reset_index(name='respiratory_charting_count'))\n"
   ]
  },
  {
   "cell_type": "code",
   "execution_count": 9,
   "id": "7cd02f9b",
   "metadata": {},
   "outputs": [
    {
     "name": "stdout",
     "output_type": "stream",
     "text": [
      "   patientunitstayid  vitals_count  notes_count  intake_output_count  \\\n",
      "0             141764          69.0          0.0                  3.0   \n",
      "1             141765         449.0          2.0                 25.0   \n",
      "2             143870         158.0          3.0                 15.0   \n",
      "3             144815         220.0          2.0                 14.0   \n",
      "4             145427         238.0          2.0                 45.0   \n",
      "\n",
      "   infusion_drug_count  lab_count  respiratory_charting_count  \n",
      "0                  0.0        0.0                         0.0  \n",
      "1                  0.0       72.0                         0.0  \n",
      "2                  0.0       49.0                        10.0  \n",
      "3                  0.0       74.0                         0.0  \n",
      "4                  0.0       94.0                         8.0  \n",
      "(2520, 7)\n"
     ]
    }
   ],
   "source": [
    "# Start with a base patient dataframe (e.g., patient stays)\n",
    "merged = ml_data['patient.csv.gz'][['patientunitstayid']]  # or any base table\n",
    "\n",
    "# Merge each summary table\n",
    "merged = merged.merge(vitals_summary, on='patientunitstayid', how='left')\n",
    "merged = merged.merge(notes_summary, on='patientunitstayid', how='left')\n",
    "merged = merged.merge(intake_output_summary, on='patientunitstayid', how='left')\n",
    "merged = merged.merge(infusion_drug_summary, on='patientunitstayid', how='left')\n",
    "merged = merged.merge(lab_summary, on='patientunitstayid', how='left')\n",
    "merged = merged.merge(respiratory_charting_summary, on='patientunitstayid', how='left')\n",
    "\n",
    "# Fill missing counts with 0 (patients with no records in a tab\n",
    "# Fill missing counts with 0 (patients with no records in a table)\n",
    "merged = merged.fillna(0)\n",
    "\n",
    "print(merged.head())\n",
    "print(merged.shape)"
   ]
  },
  {
   "cell_type": "code",
   "execution_count": 10,
   "id": "2757a52f",
   "metadata": {},
   "outputs": [],
   "source": [
    "for col in [ 'vitals_count', 'notes_count', 'intake_output_count',\n",
    "       'infusion_drug_count', 'lab_count', 'respiratory_charting_count']:\n",
    "    \n",
    "    merged[col] = merged[col].fillna(0)\n",
    "    \n",
    "    # Drop duplicates\n",
    "merged.drop_duplicates(subset=['patientunitstayid'], inplace=True)"
   ]
  },
  {
   "cell_type": "code",
   "execution_count": 11,
   "id": "a986af87",
   "metadata": {},
   "outputs": [
    {
     "name": "stdout",
     "output_type": "stream",
     "text": [
      "   patientunitstayid  observationoffset  time_bin\n",
      "0             141765               1179        19\n",
      "1             141765                189         3\n",
      "2             141765               1169        19\n",
      "3             141765               1534        25\n",
      "4             141765               1164        19\n"
     ]
    }
   ],
   "source": [
    "# Choose time bin size (in minutes)\n",
    "TIME_BIN = 60  # 60-minute intervals\n",
    "\n",
    "# Add time_bin column to each raw table\n",
    "vitals['time_bin'] = (vitals['observationoffset'] // TIME_BIN).astype(int)\n",
    "lab['time_bin'] = (lab['labresultoffset'] // TIME_BIN).astype(int)\n",
    "respiratory_charting['time_bin'] = (respiratory_charting['respchartoffset'] // TIME_BIN).astype(int)\n",
    "intake_output['time_bin'] = (intake_output['intakeoutputoffset'] // TIME_BIN).astype(int)\n",
    "infusion_drug['time_bin'] = (infusion_drug['infusionoffset'] // TIME_BIN).astype(int)\n",
    "\n",
    "# Quick check\n",
    "print(vitals[['patientunitstayid','observationoffset','time_bin']].head())\n",
    "\n",
    "#Converts raw time offsets (observationoffset, labresultoffset, etc.) \n",
    "# to hourly bins."
   ]
  },
  {
   "cell_type": "code",
   "execution_count": 12,
   "id": "c4315f14",
   "metadata": {},
   "outputs": [
    {
     "name": "stdout",
     "output_type": "stream",
     "text": [
      "   patientunitstayid  time_bin  observationoffset   heartrate  \\\n",
      "0             141764         0               31.5  117.750000   \n",
      "1             141764         1               91.5  107.666667   \n",
      "2             141764         2              151.5   95.666667   \n",
      "3             141764         3              211.5  106.000000   \n",
      "4             141764         4              271.5  107.833333   \n",
      "\n",
      "   systemicsystolic  systemicdiastolic  sao2  \n",
      "0               NaN                NaN   NaN  \n",
      "1               NaN                NaN   NaN  \n",
      "2               NaN                NaN   NaN  \n",
      "3               NaN                NaN   NaN  \n",
      "4               NaN                NaN   NaN  \n"
     ]
    }
   ],
   "source": [
    "# Add time bins (if not already added)\n",
    "vitals['time_bin'] = (vitals['observationoffset'] // 60).astype(int)\n",
    "\n",
    "# Pivot / aggregate vitals\n",
    "vitals_pivot = (\n",
    "    vitals.groupby(['patientunitstayid', 'time_bin'])\n",
    "    .mean()\n",
    "    .reset_index()\n",
    ")\n",
    "\n",
    "# Sort for clarity\n",
    "vitals_pivot = vitals_pivot.sort_values(['patientunitstayid', 'time_bin'])\n",
    "print(vitals_pivot.head())\n"
   ]
  },
  {
   "cell_type": "code",
   "execution_count": 13,
   "id": "af92c76f",
   "metadata": {},
   "outputs": [],
   "source": [
    "#'vitals_count', 'notes_count', 'intake_output_count',\n",
    "      # 'infusion_drug_count', 'lab_count', 'respiratory_charting_count'"
   ]
  },
  {
   "cell_type": "code",
   "execution_count": 14,
   "id": "cf4e4d20",
   "metadata": {},
   "outputs": [
    {
     "name": "stdout",
     "output_type": "stream",
     "text": [
      "   patientunitstayid  time_bin  note_count\n",
      "0             141765         0           2\n",
      "1             143870         0           3\n",
      "2             144815         0           2\n",
      "3             145427         0           2\n",
      "4             147307         0           4\n"
     ]
    }
   ],
   "source": [
    "# Use noteenteredoffset instead of observationoffset\n",
    "notes['time_bin'] = (notes['noteenteredoffset'] // 60).astype(int)\n",
    "\n",
    "# Count notes per patient per time_bin\n",
    "notes_pivot = (\n",
    "    notes.groupby(['patientunitstayid', 'time_bin'])\n",
    "    .size()\n",
    "    .reset_index(name='note_count')\n",
    ")\n",
    "\n",
    "# Sort for clarity\n",
    "notes_pivot = notes_pivot.sort_values(['patientunitstayid', 'time_bin'])\n",
    "print(notes_pivot.head())\n"
   ]
  },
  {
   "cell_type": "code",
   "execution_count": 15,
   "id": "b9187482",
   "metadata": {},
   "outputs": [
    {
     "name": "stdout",
     "output_type": "stream",
     "text": [
      "   patientunitstayid  time_bin  note_count\n",
      "0             141764        -1           2\n",
      "1             141764         3           1\n",
      "2             141765        -4           2\n",
      "3             141765         0           2\n",
      "4             141765         2           2\n"
     ]
    }
   ],
   "source": [
    "# Use noteenteredoffset instead of observationoffset\n",
    "intake_output['time_bin'] = (intake_output['intakeoutputoffset'] // 60).astype(int)\n",
    "\n",
    "# Count notes per patient per time_bin\n",
    "intakeoutput_pivot = (\n",
    "    intake_output.groupby(['patientunitstayid', 'time_bin'])\n",
    "    .size()\n",
    "    .reset_index(name='note_count')\n",
    ")\n",
    "\n",
    "# Sort for clarity\n",
    "intakeoutput_pivot = intakeoutput_pivot.sort_values(['patientunitstayid', 'time_bin'])\n",
    "print(intakeoutput_pivot.head())\n"
   ]
  },
  {
   "cell_type": "code",
   "execution_count": 16,
   "id": "d7bb657e",
   "metadata": {},
   "outputs": [
    {
     "name": "stdout",
     "output_type": "stream",
     "text": [
      "   patientunitstayid  time_bin  note_count\n",
      "0             243097         3           1\n",
      "1             249328         5           1\n",
      "2             249328         6           1\n",
      "3             249328         9           3\n",
      "4             249328        12           2\n"
     ]
    }
   ],
   "source": [
    "# Use noteenteredoffset instead of observationoffset\n",
    "infusion_drug['time_bin'] = (infusion_drug['infusionoffset'] // 60).astype(int)\n",
    "\n",
    "# Count notes per patient per time_bin\n",
    "infusion_drug_pivot = (\n",
    "    infusion_drug.groupby(['patientunitstayid', 'time_bin'])\n",
    "    .size()\n",
    "    .reset_index(name='note_count')\n",
    ")\n",
    "\n",
    "# Sort for clarity\n",
    "infusion_drug_pivot = infusion_drug_pivot.sort_values(['patientunitstayid', 'time_bin'])\n",
    "print(infusion_drug_pivot.head())\n"
   ]
  },
  {
   "cell_type": "code",
   "execution_count": 17,
   "id": "a7241c09",
   "metadata": {},
   "outputs": [],
   "source": [
    "# 'lab_count', 'respiratory_charting_count'#"
   ]
  },
  {
   "cell_type": "code",
   "execution_count": 18,
   "id": "2399e9b3",
   "metadata": {},
   "outputs": [
    {
     "name": "stdout",
     "output_type": "stream",
     "text": [
      "   patientunitstayid  time_bin  lab_count\n",
      "0             141765        -3         35\n",
      "1             141765         1          1\n",
      "2             141765        10         23\n",
      "3             141765        12          1\n",
      "4             141765        15          1\n"
     ]
    }
   ],
   "source": [
    "# Use noteenteredoffset instead of observationoffset\n",
    "lab['time_bin'] = (lab['labresultoffset'] // 60).astype(int)\n",
    "\n",
    "# Count notes per patient per time_bin\n",
    "lab_pivot = (\n",
    "    lab.groupby(['patientunitstayid', 'time_bin'])\n",
    "    .size()\n",
    "    .reset_index(name='lab_count')\n",
    ")\n",
    "\n",
    "# Sort for clarity\n",
    "lab_pivot = lab_pivot.sort_values(['patientunitstayid', 'time_bin'])\n",
    "print(lab_pivot.head())\n"
   ]
  },
  {
   "cell_type": "code",
   "execution_count": 19,
   "id": "2a69767b",
   "metadata": {},
   "outputs": [
    {
     "name": "stdout",
     "output_type": "stream",
     "text": [
      "   patientunitstayid  time_bin  respiratory_charting_count\n",
      "0             143870        -2                           3\n",
      "1             143870        -1                           4\n",
      "2             143870         0                           1\n",
      "3             143870         1                           1\n",
      "4             143870         3                           1\n"
     ]
    }
   ],
   "source": [
    "respiratory_charting['time_bin'] = (respiratory_charting['respchartoffset'] // 60).astype(int)\n",
    "\n",
    "respiratory_charting_pivot = (\n",
    "    respiratory_charting.groupby(['patientunitstayid', 'time_bin'])\n",
    "    .size()\n",
    "    .reset_index(name='respiratory_charting_count')\n",
    ")\n",
    "respiratory_charting_pivot = respiratory_charting_pivot.sort_values(['patientunitstayid', 'time_bin'])\n",
    "print(respiratory_charting_pivot.head())\n"
   ]
  },
  {
   "cell_type": "code",
   "execution_count": 20,
   "id": "9e5fbb86",
   "metadata": {},
   "outputs": [
    {
     "name": "stdout",
     "output_type": "stream",
     "text": [
      "        patientunitstayid  time_bin  observationoffset   heartrate  \\\n",
      "164520             141764        -1                0.0    0.000000   \n",
      "0                  141764         0               31.5  117.750000   \n",
      "1                  141764         1               91.5  107.666667   \n",
      "2                  141764         2              151.5   95.666667   \n",
      "3                  141764         3              211.5  106.000000   \n",
      "\n",
      "        systemicsystolic  systemicdiastolic  sao2  lab_count  note_count_x  \\\n",
      "164520               0.0                0.0   0.0        0.0           2.0   \n",
      "0                    0.0                0.0   0.0        0.0           0.0   \n",
      "1                    0.0                0.0   0.0        0.0           0.0   \n",
      "2                    0.0                0.0   0.0        0.0           0.0   \n",
      "3                    0.0                0.0   0.0        0.0           1.0   \n",
      "\n",
      "        note_count_y  respiratory_charting_count  note_count  \n",
      "164520           0.0                         0.0         0.0  \n",
      "0                0.0                         0.0         0.0  \n",
      "1                0.0                         0.0         0.0  \n",
      "2                0.0                         0.0         0.0  \n",
      "3                0.0                         0.0         0.0  \n",
      "(184133, 12)\n"
     ]
    }
   ],
   "source": [
    "#Merge all pivoted tables on patientunitstayid + time_bin:\n",
    "\n",
    "from functools import reduce\n",
    "\n",
    "# List all pivoted DataFrames\n",
    "pivot_tables = [vitals_pivot, lab_pivot, intakeoutput_pivot, infusion_drug_pivot, respiratory_charting_pivot, notes_pivot]\n",
    "\n",
    "# Start merging sequentially\n",
    "from functools import reduce\n",
    "full_timeseries = reduce(\n",
    "    lambda left, right: pd.merge(left, right, on=['patientunitstayid', 'time_bin'], how='outer'),\n",
    "    pivot_tables\n",
    ")\n",
    "\n",
    "# Fill missing values with 0\n",
    "full_timeseries = full_timeseries.fillna(0)\n",
    "\n",
    "# Sort by patient and time\n",
    "full_timeseries = full_timeseries.sort_values(['patientunitstayid', 'time_bin'])\n",
    "\n",
    "print(full_timeseries.head())\n",
    "print(full_timeseries.shape)\n"
   ]
  },
  {
   "cell_type": "code",
   "execution_count": 21,
   "id": "4b8c9a77",
   "metadata": {},
   "outputs": [
    {
     "name": "stdout",
     "output_type": "stream",
     "text": [
      "   patientunitstayid  time_bin  observationoffset   heartrate  \\\n",
      "0             141764        -1                0.0    0.000000   \n",
      "1             141764         0               31.5  117.750000   \n",
      "2             141764         1               91.5  107.666667   \n",
      "3             141764         2              151.5   95.666667   \n",
      "4             141764         3              211.5  106.000000   \n",
      "\n",
      "   systemicsystolic  systemicdiastolic  sao2  lab_count  \\\n",
      "0               0.0                0.0   0.0        0.0   \n",
      "1               0.0                0.0   0.0        0.0   \n",
      "2               0.0                0.0   0.0        0.0   \n",
      "3               0.0                0.0   0.0        0.0   \n",
      "4               0.0                0.0   0.0        0.0   \n",
      "\n",
      "   respiratory_charting_count  notes_count  \n",
      "0                         0.0          0.0  \n",
      "1                         0.0          0.0  \n",
      "2                         0.0          0.0  \n",
      "3                         0.0          0.0  \n",
      "4                         0.0          0.0  \n",
      "(184133, 10)\n"
     ]
    }
   ],
   "source": [
    "#Clean-Up Steps\n",
    "\n",
    "# Drop duplicate note_count columns (if needed)\n",
    "full_timeseries = full_timeseries.drop(columns=['note_count_x', 'note_count_y'], errors='ignore')\n",
    "\n",
    "# Rename columns for clarity\n",
    "full_timeseries = full_timeseries.rename(columns={'note_count': 'notes_count'})\n",
    "\n",
    "# Fill missing values with 0\n",
    "full_timeseries = full_timeseries.fillna(0)\n",
    "\n",
    "# Sort rows\n",
    "full_timeseries = full_timeseries.sort_values(['patientunitstayid', 'time_bin']).reset_index(drop=True)\n",
    "\n",
    "print(full_timeseries.head())\n",
    "print(full_timeseries.shape)\n"
   ]
  },
  {
   "cell_type": "code",
   "execution_count": 22,
   "id": "f15784a2",
   "metadata": {},
   "outputs": [
    {
     "name": "stdout",
     "output_type": "stream",
     "text": [
      "Features for model: ['observationoffset', 'heartrate', 'systemicsystolic', 'systemicdiastolic', 'sao2', 'lab_count', 'respiratory_charting_count', 'notes_count']\n"
     ]
    }
   ],
   "source": [
    "#Final Clean-Up & Prep for RNN/LSTM\n",
    "\n",
    "# Drop any leftover duplicates (just in case)\n",
    "full_timeseries = full_timeseries.drop_duplicates()\n",
    "\n",
    "# Ensure correct sort order\n",
    "full_timeseries = full_timeseries.sort_values(['patientunitstayid', 'time_bin']).reset_index(drop=True)\n",
    "\n",
    "# Fill any remaining NaNs with 0\n",
    "full_timeseries = full_timeseries.fillna(0)\n",
    "\n",
    "# Separate feature columns (drop IDs)\n",
    "feature_cols = [c for c in full_timeseries.columns if c not in ['patientunitstayid', 'time_bin']]\n",
    "\n",
    "print(f\"Features for model: {feature_cols}\")\n"
   ]
  },
  {
   "cell_type": "code",
   "execution_count": 23,
   "id": "ba487c4c",
   "metadata": {},
   "outputs": [
    {
     "name": "stdout",
     "output_type": "stream",
     "text": [
      "Requirement already satisfied: tensorflow in c:\\programdata\\anaconda3\\lib\\site-packages (2.20.0)\n",
      "Requirement already satisfied: absl-py>=1.0.0 in c:\\programdata\\anaconda3\\lib\\site-packages (from tensorflow) (2.3.1)\n",
      "Requirement already satisfied: astunparse>=1.6.0 in c:\\programdata\\anaconda3\\lib\\site-packages (from tensorflow) (1.6.3)\n",
      "Requirement already satisfied: flatbuffers>=24.3.25 in c:\\programdata\\anaconda3\\lib\\site-packages (from tensorflow) (25.2.10)\n",
      "Requirement already satisfied: gast!=0.5.0,!=0.5.1,!=0.5.2,>=0.2.1 in c:\\programdata\\anaconda3\\lib\\site-packages (from tensorflow) (0.6.0)\n",
      "Requirement already satisfied: google_pasta>=0.1.1 in c:\\programdata\\anaconda3\\lib\\site-packages (from tensorflow) (0.2.0)\n",
      "Requirement already satisfied: libclang>=13.0.0 in c:\\programdata\\anaconda3\\lib\\site-packages (from tensorflow) (18.1.1)\n",
      "Requirement already satisfied: opt_einsum>=2.3.2 in c:\\programdata\\anaconda3\\lib\\site-packages (from tensorflow) (3.4.0)\n",
      "Requirement already satisfied: packaging in c:\\programdata\\anaconda3\\lib\\site-packages (from tensorflow) (24.1)\n",
      "Requirement already satisfied: protobuf>=5.28.0 in c:\\programdata\\anaconda3\\lib\\site-packages (from tensorflow) (6.32.0)\n",
      "Requirement already satisfied: requests<3,>=2.21.0 in c:\\programdata\\anaconda3\\lib\\site-packages (from tensorflow) (2.32.3)\n",
      "Requirement already satisfied: setuptools in c:\\programdata\\anaconda3\\lib\\site-packages (from tensorflow) (75.1.0)\n",
      "Requirement already satisfied: six>=1.12.0 in c:\\programdata\\anaconda3\\lib\\site-packages (from tensorflow) (1.16.0)\n",
      "Requirement already satisfied: termcolor>=1.1.0 in c:\\programdata\\anaconda3\\lib\\site-packages (from tensorflow) (3.1.0)\n",
      "Requirement already satisfied: typing_extensions>=3.6.6 in c:\\programdata\\anaconda3\\lib\\site-packages (from tensorflow) (4.14.1)\n",
      "Requirement already satisfied: wrapt>=1.11.0 in c:\\programdata\\anaconda3\\lib\\site-packages (from tensorflow) (1.14.1)\n",
      "Requirement already satisfied: grpcio<2.0,>=1.24.3 in c:\\programdata\\anaconda3\\lib\\site-packages (from tensorflow) (1.74.0)\n",
      "Requirement already satisfied: tensorboard~=2.20.0 in c:\\programdata\\anaconda3\\lib\\site-packages (from tensorflow) (2.20.0)\n",
      "Requirement already satisfied: keras>=3.10.0 in c:\\programdata\\anaconda3\\lib\\site-packages (from tensorflow) (3.11.3)\n",
      "Requirement already satisfied: numpy>=1.26.0 in c:\\programdata\\anaconda3\\lib\\site-packages (from tensorflow) (1.26.4)\n",
      "Requirement already satisfied: h5py>=3.11.0 in c:\\programdata\\anaconda3\\lib\\site-packages (from tensorflow) (3.11.0)\n",
      "Requirement already satisfied: ml_dtypes<1.0.0,>=0.5.1 in c:\\programdata\\anaconda3\\lib\\site-packages (from tensorflow) (0.5.3)\n",
      "Requirement already satisfied: wheel<1.0,>=0.23.0 in c:\\programdata\\anaconda3\\lib\\site-packages (from astunparse>=1.6.0->tensorflow) (0.44.0)\n",
      "Requirement already satisfied: rich in c:\\programdata\\anaconda3\\lib\\site-packages (from keras>=3.10.0->tensorflow) (13.7.1)\n",
      "Requirement already satisfied: namex in c:\\programdata\\anaconda3\\lib\\site-packages (from keras>=3.10.0->tensorflow) (0.1.0)\n",
      "Requirement already satisfied: optree in c:\\programdata\\anaconda3\\lib\\site-packages (from keras>=3.10.0->tensorflow) (0.17.0)\n",
      "Requirement already satisfied: charset-normalizer<4,>=2 in c:\\programdata\\anaconda3\\lib\\site-packages (from requests<3,>=2.21.0->tensorflow) (3.3.2)\n",
      "Requirement already satisfied: idna<4,>=2.5 in c:\\programdata\\anaconda3\\lib\\site-packages (from requests<3,>=2.21.0->tensorflow) (3.7)\n",
      "Requirement already satisfied: urllib3<3,>=1.21.1 in c:\\programdata\\anaconda3\\lib\\site-packages (from requests<3,>=2.21.0->tensorflow) (2.4.0)\n",
      "Requirement already satisfied: certifi>=2017.4.17 in c:\\programdata\\anaconda3\\lib\\site-packages (from requests<3,>=2.21.0->tensorflow) (2025.4.26)\n",
      "Requirement already satisfied: markdown>=2.6.8 in c:\\programdata\\anaconda3\\lib\\site-packages (from tensorboard~=2.20.0->tensorflow) (3.4.1)\n",
      "Requirement already satisfied: pillow in c:\\programdata\\anaconda3\\lib\\site-packages (from tensorboard~=2.20.0->tensorflow) (10.4.0)\n",
      "Requirement already satisfied: tensorboard-data-server<0.8.0,>=0.7.0 in c:\\programdata\\anaconda3\\lib\\site-packages (from tensorboard~=2.20.0->tensorflow) (0.7.2)\n",
      "Requirement already satisfied: werkzeug>=1.0.1 in c:\\programdata\\anaconda3\\lib\\site-packages (from tensorboard~=2.20.0->tensorflow) (3.0.3)\n",
      "Requirement already satisfied: MarkupSafe>=2.1.1 in c:\\programdata\\anaconda3\\lib\\site-packages (from werkzeug>=1.0.1->tensorboard~=2.20.0->tensorflow) (2.1.3)\n",
      "Requirement already satisfied: markdown-it-py>=2.2.0 in c:\\programdata\\anaconda3\\lib\\site-packages (from rich->keras>=3.10.0->tensorflow) (2.2.0)\n",
      "Requirement already satisfied: pygments<3.0.0,>=2.13.0 in c:\\programdata\\anaconda3\\lib\\site-packages (from rich->keras>=3.10.0->tensorflow) (2.15.1)\n",
      "Requirement already satisfied: mdurl~=0.1 in c:\\programdata\\anaconda3\\lib\\site-packages (from markdown-it-py>=2.2.0->rich->keras>=3.10.0->tensorflow) (0.1.0)\n",
      "Note: you may need to restart the kernel to use updated packages.\n"
     ]
    }
   ],
   "source": [
    "pip install tensorflow\n"
   ]
  },
  {
   "cell_type": "code",
   "execution_count": 24,
   "id": "b4d668c4",
   "metadata": {},
   "outputs": [],
   "source": [
    "import numpy as np\n",
    "import pandas as pd\n",
    "from sklearn.preprocessing import StandardScaler\n",
    "from tensorflow.keras.preprocessing.sequence import pad_sequences\n",
    "\n",
    "def prepare_lstm_data(full_timeseries, patient_data, target_col='hospitaldischargestatus'):\n",
    "    \"\"\"\n",
    "    Prepare LSTM-ready data from patient time-series DataFrame.\n",
    "\n",
    "    Parameters:\n",
    "    -----------\n",
    "    full_timeseries : pd.DataFrame\n",
    "        Must contain ['patientunitstayid', 'time_bin', features...]\n",
    "    patient_data : pd.DataFrame\n",
    "        Table with patient-level targets, keyed by 'patientunitstayid'\n",
    "    target_col : str\n",
    "        Column name in patient_data to use as target (e.g., 'hospitaldischargestatus')\n",
    "\n",
    "    Returns:\n",
    "    --------\n",
    "    X : np.ndarray\n",
    "        Shape (num_patients, max_timesteps, num_features)\n",
    "    y : np.ndarray\n",
    "        Shape (num_patients,)\n",
    "    patient_ids : list\n",
    "        List of patientunitstayid in order of X, y\n",
    "    feature_cols : list\n",
    "        Names of features used\n",
    "    \"\"\"\n",
    "    # Ensure sorting\n",
    "    df = full_timeseries.sort_values(['patientunitstayid', 'time_bin']).reset_index(drop=True)\n",
    "    \n",
    "    # Select features\n",
    "    feature_cols = [c for c in df.columns if c not in ['patientunitstayid', 'time_bin']]\n",
    "    \n",
    "    # Scale features\n",
    "    scaler = StandardScaler()\n",
    "    df[feature_cols] = scaler.fit_transform(df[feature_cols])\n",
    "\n",
    "    # Group by patient and create sequences\n",
    "    sequences = []\n",
    "    patient_ids = []\n",
    "    for pid, group in df.groupby('patientunitstayid'):\n",
    "        seq = group[feature_cols].values\n",
    "        sequences.append(seq)\n",
    "        patient_ids.append(pid)\n",
    "    \n",
    "    # Pad sequences\n",
    "    X = pad_sequences(sequences, padding='post', dtype='float32')\n",
    "    \n",
    "    # Create target array\n",
    "    target_map = patient_data.set_index('patientunitstayid')[target_col]\n",
    "    y = np.array([target_map.get(pid, np.nan) for pid in patient_ids])\n",
    "    \n",
    "    return X, y, patient_ids, feature_cols\n"
   ]
  },
  {
   "cell_type": "code",
   "execution_count": 25,
   "id": "09ec6193",
   "metadata": {},
   "outputs": [
    {
     "name": "stdout",
     "output_type": "stream",
     "text": [
      "X shape: (2495, 1110, 8)\n",
      "y shape: (2495,)\n",
      "Example patient IDs: [141764, 141765, 143870, 144815, 145427]\n",
      "Feature columns: ['observationoffset', 'heartrate', 'systemicsystolic', 'systemicdiastolic', 'sao2', 'lab_count', 'respiratory_charting_count', 'notes_count']\n"
     ]
    }
   ],
   "source": [
    "#how to use \n",
    "\n",
    "patient_data = ml_data['patient.csv.gz']\n",
    "\n",
    "target_col = 'hospitaldischargestatus'  # Example target column\n",
    "X, y, patient_ids, feature_cols = prepare_lstm_data(full_timeseries, patient_data, target_col)\n",
    "\n",
    "print(f\"X shape: {X.shape}\")\n",
    "print(\"y shape:\", y.shape)\n",
    "print(\"Example patient IDs:\", patient_ids[:5])\n",
    "print(\"Feature columns:\", feature_cols)\n"
   ]
  },
  {
   "cell_type": "code",
   "execution_count": 26,
   "id": "dbb31def",
   "metadata": {},
   "outputs": [
    {
     "name": "stdout",
     "output_type": "stream",
     "text": [
      "Train shape: (1996, 1110, 8), Test shape: (499, 1110, 8)\n"
     ]
    }
   ],
   "source": [
    "#train-test split\n",
    "\n",
    "from sklearn.model_selection import train_test_split\n",
    "\n",
    "X_train, X_test, y_train, y_test = train_test_split(\n",
    "    X, y, test_size=0.2, random_state=42, stratify=y\n",
    ")\n",
    "print(f\"Train shape: {X_train.shape}, Test shape: {X_test.shape}\")"
   ]
  },
  {
   "cell_type": "code",
   "execution_count": 27,
   "id": "8f12564e",
   "metadata": {},
   "outputs": [
    {
     "name": "stdout",
     "output_type": "stream",
     "text": [
      "{0: 0.36881005173688103, 1: 3.9137254901960783, 2: 30.242424242424242}\n"
     ]
    }
   ],
   "source": [
    "#Handle Class Imbalance\n",
    "\n",
    "from sklearn.utils.class_weight import compute_class_weight\n",
    "import numpy as np\n",
    "\n",
    "class_weights = compute_class_weight('balanced', classes=np.unique(y_train), y=y_train)\n",
    "class_weight_dict = dict(enumerate(class_weights))\n",
    "print(class_weight_dict)\n"
   ]
  },
  {
   "cell_type": "code",
   "execution_count": 28,
   "id": "057b06db",
   "metadata": {},
   "outputs": [
    {
     "name": "stderr",
     "output_type": "stream",
     "text": [
      "c:\\ProgramData\\anaconda3\\Lib\\site-packages\\keras\\src\\layers\\core\\masking.py:48: UserWarning: Do not pass an `input_shape`/`input_dim` argument to a layer. When using Sequential models, prefer using an `Input(shape)` object as the first layer in the model instead.\n",
      "  super().__init__(**kwargs)\n"
     ]
    },
    {
     "data": {
      "text/html": [
       "<pre style=\"white-space:pre;overflow-x:auto;line-height:normal;font-family:Menlo,'DejaVu Sans Mono',consolas,'Courier New',monospace\"><span style=\"font-weight: bold\">Model: \"sequential\"</span>\n",
       "</pre>\n"
      ],
      "text/plain": [
       "\u001b[1mModel: \"sequential\"\u001b[0m\n"
      ]
     },
     "metadata": {},
     "output_type": "display_data"
    },
    {
     "data": {
      "text/html": [
       "<pre style=\"white-space:pre;overflow-x:auto;line-height:normal;font-family:Menlo,'DejaVu Sans Mono',consolas,'Courier New',monospace\">┏━━━━━━━━━━━━━━━━━━━━━━━━━━━━━━━━━┳━━━━━━━━━━━━━━━━━━━━━━━━┳━━━━━━━━━━━━━━━┓\n",
       "┃<span style=\"font-weight: bold\"> Layer (type)                    </span>┃<span style=\"font-weight: bold\"> Output Shape           </span>┃<span style=\"font-weight: bold\">       Param # </span>┃\n",
       "┡━━━━━━━━━━━━━━━━━━━━━━━━━━━━━━━━━╇━━━━━━━━━━━━━━━━━━━━━━━━╇━━━━━━━━━━━━━━━┩\n",
       "│ masking (<span style=\"color: #0087ff; text-decoration-color: #0087ff\">Masking</span>)               │ (<span style=\"color: #00d7ff; text-decoration-color: #00d7ff\">None</span>, <span style=\"color: #00af00; text-decoration-color: #00af00\">1110</span>, <span style=\"color: #00af00; text-decoration-color: #00af00\">8</span>)        │             <span style=\"color: #00af00; text-decoration-color: #00af00\">0</span> │\n",
       "├─────────────────────────────────┼────────────────────────┼───────────────┤\n",
       "│ lstm (<span style=\"color: #0087ff; text-decoration-color: #0087ff\">LSTM</span>)                     │ (<span style=\"color: #00d7ff; text-decoration-color: #00d7ff\">None</span>, <span style=\"color: #00af00; text-decoration-color: #00af00\">64</span>)             │        <span style=\"color: #00af00; text-decoration-color: #00af00\">18,688</span> │\n",
       "├─────────────────────────────────┼────────────────────────┼───────────────┤\n",
       "│ dense (<span style=\"color: #0087ff; text-decoration-color: #0087ff\">Dense</span>)                   │ (<span style=\"color: #00d7ff; text-decoration-color: #00d7ff\">None</span>, <span style=\"color: #00af00; text-decoration-color: #00af00\">32</span>)             │         <span style=\"color: #00af00; text-decoration-color: #00af00\">2,080</span> │\n",
       "├─────────────────────────────────┼────────────────────────┼───────────────┤\n",
       "│ dense_1 (<span style=\"color: #0087ff; text-decoration-color: #0087ff\">Dense</span>)                 │ (<span style=\"color: #00d7ff; text-decoration-color: #00d7ff\">None</span>, <span style=\"color: #00af00; text-decoration-color: #00af00\">1</span>)              │            <span style=\"color: #00af00; text-decoration-color: #00af00\">33</span> │\n",
       "└─────────────────────────────────┴────────────────────────┴───────────────┘\n",
       "</pre>\n"
      ],
      "text/plain": [
       "┏━━━━━━━━━━━━━━━━━━━━━━━━━━━━━━━━━┳━━━━━━━━━━━━━━━━━━━━━━━━┳━━━━━━━━━━━━━━━┓\n",
       "┃\u001b[1m \u001b[0m\u001b[1mLayer (type)                   \u001b[0m\u001b[1m \u001b[0m┃\u001b[1m \u001b[0m\u001b[1mOutput Shape          \u001b[0m\u001b[1m \u001b[0m┃\u001b[1m \u001b[0m\u001b[1m      Param #\u001b[0m\u001b[1m \u001b[0m┃\n",
       "┡━━━━━━━━━━━━━━━━━━━━━━━━━━━━━━━━━╇━━━━━━━━━━━━━━━━━━━━━━━━╇━━━━━━━━━━━━━━━┩\n",
       "│ masking (\u001b[38;5;33mMasking\u001b[0m)               │ (\u001b[38;5;45mNone\u001b[0m, \u001b[38;5;34m1110\u001b[0m, \u001b[38;5;34m8\u001b[0m)        │             \u001b[38;5;34m0\u001b[0m │\n",
       "├─────────────────────────────────┼────────────────────────┼───────────────┤\n",
       "│ lstm (\u001b[38;5;33mLSTM\u001b[0m)                     │ (\u001b[38;5;45mNone\u001b[0m, \u001b[38;5;34m64\u001b[0m)             │        \u001b[38;5;34m18,688\u001b[0m │\n",
       "├─────────────────────────────────┼────────────────────────┼───────────────┤\n",
       "│ dense (\u001b[38;5;33mDense\u001b[0m)                   │ (\u001b[38;5;45mNone\u001b[0m, \u001b[38;5;34m32\u001b[0m)             │         \u001b[38;5;34m2,080\u001b[0m │\n",
       "├─────────────────────────────────┼────────────────────────┼───────────────┤\n",
       "│ dense_1 (\u001b[38;5;33mDense\u001b[0m)                 │ (\u001b[38;5;45mNone\u001b[0m, \u001b[38;5;34m1\u001b[0m)              │            \u001b[38;5;34m33\u001b[0m │\n",
       "└─────────────────────────────────┴────────────────────────┴───────────────┘\n"
      ]
     },
     "metadata": {},
     "output_type": "display_data"
    },
    {
     "data": {
      "text/html": [
       "<pre style=\"white-space:pre;overflow-x:auto;line-height:normal;font-family:Menlo,'DejaVu Sans Mono',consolas,'Courier New',monospace\"><span style=\"font-weight: bold\"> Total params: </span><span style=\"color: #00af00; text-decoration-color: #00af00\">20,801</span> (81.25 KB)\n",
       "</pre>\n"
      ],
      "text/plain": [
       "\u001b[1m Total params: \u001b[0m\u001b[38;5;34m20,801\u001b[0m (81.25 KB)\n"
      ]
     },
     "metadata": {},
     "output_type": "display_data"
    },
    {
     "data": {
      "text/html": [
       "<pre style=\"white-space:pre;overflow-x:auto;line-height:normal;font-family:Menlo,'DejaVu Sans Mono',consolas,'Courier New',monospace\"><span style=\"font-weight: bold\"> Trainable params: </span><span style=\"color: #00af00; text-decoration-color: #00af00\">20,801</span> (81.25 KB)\n",
       "</pre>\n"
      ],
      "text/plain": [
       "\u001b[1m Trainable params: \u001b[0m\u001b[38;5;34m20,801\u001b[0m (81.25 KB)\n"
      ]
     },
     "metadata": {},
     "output_type": "display_data"
    },
    {
     "data": {
      "text/html": [
       "<pre style=\"white-space:pre;overflow-x:auto;line-height:normal;font-family:Menlo,'DejaVu Sans Mono',consolas,'Courier New',monospace\"><span style=\"font-weight: bold\"> Non-trainable params: </span><span style=\"color: #00af00; text-decoration-color: #00af00\">0</span> (0.00 B)\n",
       "</pre>\n"
      ],
      "text/plain": [
       "\u001b[1m Non-trainable params: \u001b[0m\u001b[38;5;34m0\u001b[0m (0.00 B)\n"
      ]
     },
     "metadata": {},
     "output_type": "display_data"
    }
   ],
   "source": [
    "#Build LSTM Model\n",
    "\n",
    "from tensorflow.keras.models import Sequential\n",
    "from tensorflow.keras.layers import LSTM, Dense, Masking\n",
    "from tensorflow.keras.optimizers import Adam\n",
    "\n",
    "timesteps = X_train.shape[1]\n",
    "features = X_train.shape[2]\n",
    "\n",
    "model = Sequential([\n",
    "    Masking(mask_value=0., input_shape=(timesteps, features)),  # ignore padded zeros\n",
    "    LSTM(64, return_sequences=False),\n",
    "    Dense(32, activation='relu'),\n",
    "    Dense(1, activation='sigmoid')  # binary output\n",
    "])\n",
    "\n",
    "model.compile(\n",
    "    optimizer=Adam(learning_rate=0.001),\n",
    "    loss='binary_crossentropy',\n",
    "    metrics=['accuracy']\n",
    ")\n",
    "\n",
    "model.summary()\n",
    "\n"
   ]
  },
  {
   "cell_type": "code",
   "execution_count": null,
   "id": "f53e07ca",
   "metadata": {},
   "outputs": [],
   "source": []
  },
  {
   "cell_type": "code",
   "execution_count": 29,
   "id": "355f9e44",
   "metadata": {},
   "outputs": [
    {
     "name": "stdout",
     "output_type": "stream",
     "text": [
      "float32\n",
      "<U32\n"
     ]
    }
   ],
   "source": [
    "\n",
    "print(X_train.dtype)  # should be float32 or float64\n",
    "print(y_train.dtype)  # should be int or float\n",
    "\n",
    "\n",
    "X_train = X_train.astype('float32')\n",
    "X_test = X_test.astype('float32')\n",
    "\n"
   ]
  },
  {
   "cell_type": "code",
   "execution_count": 30,
   "id": "0ed2d679",
   "metadata": {},
   "outputs": [
    {
     "name": "stdout",
     "output_type": "stream",
     "text": [
      "[0 1]\n",
      "[0 1]\n"
     ]
    }
   ],
   "source": [
    "# Convert y_train\n",
    "y_train = np.array([1 if str(x).strip().lower() == 'expired' else 0 for x in y_train])\n",
    "\n",
    "# Convert y_test\n",
    "y_test = np.array([1 if str(x).strip().lower() == 'expired' else 0 for x in y_test])\n",
    "\n",
    "# Ensure integer type\n",
    "y_train = y_train.astype('int')\n",
    "y_test = y_test.astype('int')\n",
    "\n",
    "print(np.unique(y_train))  # should print [0, 1]\n",
    "print(np.unique(y_test))   # should print [0, 1]\n"
   ]
  },
  {
   "cell_type": "code",
   "execution_count": 31,
   "id": "b5481141",
   "metadata": {},
   "outputs": [
    {
     "name": "stdout",
     "output_type": "stream",
     "text": [
      "Epoch 1/20\n",
      "\u001b[1m63/63\u001b[0m \u001b[32m━━━━━━━━━━━━━━━━━━━━\u001b[0m\u001b[37m\u001b[0m \u001b[1m29s\u001b[0m 411ms/step - accuracy: 0.7159 - loss: 0.4050 - val_accuracy: 0.8397 - val_loss: 0.5300\n",
      "Epoch 2/20\n",
      "\u001b[1m63/63\u001b[0m \u001b[32m━━━━━━━━━━━━━━━━━━━━\u001b[0m\u001b[37m\u001b[0m \u001b[1m25s\u001b[0m 391ms/step - accuracy: 0.7976 - loss: 0.3658 - val_accuracy: 0.7715 - val_loss: 0.5719\n",
      "Epoch 3/20\n",
      "\u001b[1m63/63\u001b[0m \u001b[32m━━━━━━━━━━━━━━━━━━━━\u001b[0m\u001b[37m\u001b[0m \u001b[1m27s\u001b[0m 436ms/step - accuracy: 0.8046 - loss: 0.3551 - val_accuracy: 0.7735 - val_loss: 0.5507\n",
      "Epoch 4/20\n",
      "\u001b[1m63/63\u001b[0m \u001b[32m━━━━━━━━━━━━━━━━━━━━\u001b[0m\u001b[37m\u001b[0m \u001b[1m24s\u001b[0m 377ms/step - accuracy: 0.8086 - loss: 0.3442 - val_accuracy: 0.7776 - val_loss: 0.6098\n",
      "Epoch 5/20\n",
      "\u001b[1m63/63\u001b[0m \u001b[32m━━━━━━━━━━━━━━━━━━━━\u001b[0m\u001b[37m\u001b[0m \u001b[1m23s\u001b[0m 372ms/step - accuracy: 0.7971 - loss: 0.3391 - val_accuracy: 0.8257 - val_loss: 0.4586\n",
      "Epoch 6/20\n",
      "\u001b[1m63/63\u001b[0m \u001b[32m━━━━━━━━━━━━━━━━━━━━\u001b[0m\u001b[37m\u001b[0m \u001b[1m23s\u001b[0m 367ms/step - accuracy: 0.8156 - loss: 0.3312 - val_accuracy: 0.7876 - val_loss: 0.5323\n",
      "Epoch 7/20\n",
      "\u001b[1m63/63\u001b[0m \u001b[32m━━━━━━━━━━━━━━━━━━━━\u001b[0m\u001b[37m\u001b[0m \u001b[1m23s\u001b[0m 370ms/step - accuracy: 0.8176 - loss: 0.3247 - val_accuracy: 0.7936 - val_loss: 0.5489\n",
      "Epoch 8/20\n",
      "\u001b[1m63/63\u001b[0m \u001b[32m━━━━━━━━━━━━━━━━━━━━\u001b[0m\u001b[37m\u001b[0m \u001b[1m23s\u001b[0m 358ms/step - accuracy: 0.8191 - loss: 0.3139 - val_accuracy: 0.8357 - val_loss: 0.4523\n",
      "Epoch 9/20\n",
      "\u001b[1m63/63\u001b[0m \u001b[32m━━━━━━━━━━━━━━━━━━━━\u001b[0m\u001b[37m\u001b[0m \u001b[1m22s\u001b[0m 352ms/step - accuracy: 0.8362 - loss: 0.3122 - val_accuracy: 0.8337 - val_loss: 0.3938\n",
      "Epoch 10/20\n",
      "\u001b[1m63/63\u001b[0m \u001b[32m━━━━━━━━━━━━━━━━━━━━\u001b[0m\u001b[37m\u001b[0m \u001b[1m22s\u001b[0m 348ms/step - accuracy: 0.8272 - loss: 0.3118 - val_accuracy: 0.8196 - val_loss: 0.4354\n",
      "Epoch 11/20\n",
      "\u001b[1m63/63\u001b[0m \u001b[32m━━━━━━━━━━━━━━━━━━━━\u001b[0m\u001b[37m\u001b[0m \u001b[1m23s\u001b[0m 362ms/step - accuracy: 0.8216 - loss: 0.3040 - val_accuracy: 0.8156 - val_loss: 0.4352\n",
      "Epoch 12/20\n",
      "\u001b[1m63/63\u001b[0m \u001b[32m━━━━━━━━━━━━━━━━━━━━\u001b[0m\u001b[37m\u001b[0m \u001b[1m22s\u001b[0m 354ms/step - accuracy: 0.8462 - loss: 0.2964 - val_accuracy: 0.8036 - val_loss: 0.5027\n",
      "Epoch 13/20\n",
      "\u001b[1m63/63\u001b[0m \u001b[32m━━━━━━━━━━━━━━━━━━━━\u001b[0m\u001b[37m\u001b[0m \u001b[1m22s\u001b[0m 350ms/step - accuracy: 0.8452 - loss: 0.2877 - val_accuracy: 0.8236 - val_loss: 0.4409\n",
      "Epoch 14/20\n",
      "\u001b[1m63/63\u001b[0m \u001b[32m━━━━━━━━━━━━━━━━━━━━\u001b[0m\u001b[37m\u001b[0m \u001b[1m24s\u001b[0m 378ms/step - accuracy: 0.8477 - loss: 0.2819 - val_accuracy: 0.8196 - val_loss: 0.4698\n",
      "Epoch 15/20\n",
      "\u001b[1m63/63\u001b[0m \u001b[32m━━━━━━━━━━━━━━━━━━━━\u001b[0m\u001b[37m\u001b[0m \u001b[1m23s\u001b[0m 361ms/step - accuracy: 0.8662 - loss: 0.2745 - val_accuracy: 0.8016 - val_loss: 0.4549\n",
      "Epoch 16/20\n",
      "\u001b[1m63/63\u001b[0m \u001b[32m━━━━━━━━━━━━━━━━━━━━\u001b[0m\u001b[37m\u001b[0m \u001b[1m23s\u001b[0m 364ms/step - accuracy: 0.8527 - loss: 0.2697 - val_accuracy: 0.8116 - val_loss: 0.4870\n",
      "Epoch 17/20\n",
      "\u001b[1m63/63\u001b[0m \u001b[32m━━━━━━━━━━━━━━━━━━━━\u001b[0m\u001b[37m\u001b[0m \u001b[1m23s\u001b[0m 356ms/step - accuracy: 0.8472 - loss: 0.2681 - val_accuracy: 0.7836 - val_loss: 0.5188\n",
      "Epoch 18/20\n",
      "\u001b[1m63/63\u001b[0m \u001b[32m━━━━━━━━━━━━━━━━━━━━\u001b[0m\u001b[37m\u001b[0m \u001b[1m23s\u001b[0m 359ms/step - accuracy: 0.8652 - loss: 0.2630 - val_accuracy: 0.8136 - val_loss: 0.4700\n",
      "Epoch 19/20\n",
      "\u001b[1m63/63\u001b[0m \u001b[32m━━━━━━━━━━━━━━━━━━━━\u001b[0m\u001b[37m\u001b[0m \u001b[1m23s\u001b[0m 370ms/step - accuracy: 0.8572 - loss: 0.2655 - val_accuracy: 0.8116 - val_loss: 0.5073\n",
      "Epoch 20/20\n",
      "\u001b[1m63/63\u001b[0m \u001b[32m━━━━━━━━━━━━━━━━━━━━\u001b[0m\u001b[37m\u001b[0m \u001b[1m23s\u001b[0m 367ms/step - accuracy: 0.8833 - loss: 0.2473 - val_accuracy: 0.7655 - val_loss: 0.5656\n"
     ]
    }
   ],
   "source": [
    "history = model.fit(\n",
    "    X_train, y_train,\n",
    "    validation_data=(X_test, y_test),\n",
    "    epochs=20,\n",
    "    batch_size=32,\n",
    "    class_weight=class_weight_dict  # optional\n",
    ")\n"
   ]
  },
  {
   "cell_type": "code",
   "execution_count": 33,
   "id": "f79e229a",
   "metadata": {},
   "outputs": [
    {
     "name": "stdout",
     "output_type": "stream",
     "text": [
      "\u001b[1m16/16\u001b[0m \u001b[32m━━━━━━━━━━━━━━━━━━━━\u001b[0m\u001b[37m\u001b[0m \u001b[1m3s\u001b[0m 156ms/step\n",
      "ROC-AUC: 0.7870\n"
     ]
    },
    {
     "data": {
      "image/png": "[encoded data removed]",
      "text/plain": [
       "<Figure size 640x480 with 1 Axes>"
      ]
     },
     "metadata": {},
     "output_type": "display_data"
    }
   ],
   "source": [
    "from sklearn.metrics import roc_auc_score, roc_curve\n",
    "import matplotlib.pyplot as plt\n",
    "\n",
    "# Predict probabilities\n",
    "y_pred_prob = model.predict(X_test).ravel()\n",
    "\n",
    "# AUC\n",
    "auc = roc_auc_score(y_test, y_pred_prob)\n",
    "print(f\"ROC-AUC: {auc:.4f}\")\n",
    "\n",
    "# ROC curve\n",
    "fpr, tpr, _ = roc_curve(y_test, y_pred_prob)\n",
    "\n",
    "plt.figure()\n",
    "plt.plot(fpr, tpr, label=f'AUC={auc:.4f}')\n",
    "plt.plot([0,1],[0,1],'--', color='gray')\n",
    "plt.xlabel('False Positive Rate')\n",
    "plt.ylabel('True Positive Rate')\n",
    "plt.title('ROC Curve')\n",
    "plt.legend()\n",
    "\n",
    "# Save before showing\n",
    "plt.savefig(\"roc_curve.png\")\n",
    "plt.show()\n",
    "plt.close()\n"
   ]
  }
 ],
 "metadata": {
  "kernelspec": {
   "display_name": "base",
   "language": "python",
   "name": "python3"
  },
  "language_info": {
   "codemirror_mode": {
    "name": "ipython",
    "version": 3
   },
   "file_extension": ".py",
   "mimetype": "text/x-python",
   "name": "python",
   "nbconvert_exporter": "python",
   "pygments_lexer": "ipython3",
   "version": "3.12.7"
  }
 },
 "nbformat": 4,
 "nbformat_minor": 5
}
